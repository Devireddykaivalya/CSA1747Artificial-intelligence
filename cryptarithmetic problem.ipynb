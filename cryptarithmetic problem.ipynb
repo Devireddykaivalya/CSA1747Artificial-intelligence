{
 "cells": [
  {
   "cell_type": "code",
   "execution_count": null,
   "id": "364c5d73-07c8-4fe8-9637-38ad2f0248a2",
   "metadata": {},
   "outputs": [
    {
     "name": "stdout",
     "output_type": "stream",
     "text": [
      "Crypt-Arithmetic Problem\n"
     ]
    }
   ],
   "source": [
    "print(\"Crypt-Arithmetic Problem\")\n",
    "\n",
    "# Function to check if the current mapping satisfies the cryptarithmetic equation\n",
    "def is_solution_valid(mapping, words, result):\n",
    "    word_values = [int(''.join(str(mapping[c]) for c in word)) for word in words]\n",
    "    result_value = int(''.join(str(mapping[c]) for c in result))\n",
    "    return sum(word_values) == result_value\n",
    "\n",
    "# Function to solve the cryptarithmetic problem\n",
    "def solve_cryptarithmetic(words, result):\n",
    "    all_letters = set(''.join(words + [result]))\n",
    "    \n",
    "    # If there are more than 10 unique letters, no solution is possible (digits are 0-9)\n",
    "    if len(all_letters) > 10:\n",
    "        return None\n",
    "    \n",
    "    unique_letters = sorted(all_letters)\n",
    "    from itertools import permutations as permute\n",
    "    \n",
    "    # Try every permutation of digits for the unique letters\n",
    "    for perm in permute(range(10), len(unique_letters)):\n",
    "        mapping = {letter: digit for letter, digit in zip(unique_letters, perm)}\n",
    "        \n",
    "        # Skip invalid mappings where a word starts with a zero\n",
    "        if any(mapping[word[0]] == 0 for word in words) or mapping[result[0]] == 0:\n",
    "            continue\n",
    "        \n",
    "        if is_solution_valid(mapping, words, result):\n",
    "            return mapping\n",
    "    return None\n",
    "\n",
    "f = str(input(\"Enter the first word: \"))\n",
    "s = str(input(\"Enter the second word: \"))\n",
    "t = str(input(\"Enter the third word: \"))\n",
    "result = str(input(\"Enter the result word: \"))\n",
    "\n",
    "words = [f, s, t]\n",
    "solution = solve_cryptarithmetic(words, result)\n",
    "\n",
    "if solution:\n",
    "    print(\"Solution found:\")\n",
    "    for letter, digit in solution.items():\n",
    "        print(f\"{letter} = {digit}\")\n",
    "else:\n",
    "    print(\"No solution found for the given cryptarithmetic problem.\")\n"
   ]
  },
  {
   "cell_type": "code",
   "execution_count": null,
   "id": "e236818c-fdd3-4f4b-ac9a-fffa3e9f3bb8",
   "metadata": {},
   "outputs": [],
   "source": []
  }
 ],
 "metadata": {
  "kernelspec": {
   "display_name": "Python 3 (ipykernel)",
   "language": "python",
   "name": "python3"
  },
  "language_info": {
   "codemirror_mode": {
    "name": "ipython",
    "version": 3
   },
   "file_extension": ".py",
   "mimetype": "text/x-python",
   "name": "python",
   "nbconvert_exporter": "python",
   "pygments_lexer": "ipython3",
   "version": "3.12.5"
  }
 },
 "nbformat": 4,
 "nbformat_minor": 5
}
